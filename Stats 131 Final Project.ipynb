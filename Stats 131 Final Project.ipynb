{
 "cells": [
  {
   "cell_type": "markdown",
   "metadata": {},
   "source": [
    "## Stats 131: Final Project\n",
    "### Kaylin Dee\n",
    "\n",
    "Basic Exploratory Analysis of League of Legends' Kaggle Data"
   ]
  },
  {
   "cell_type": "markdown",
   "metadata": {},
   "source": [
    "###### Import Packages"
   ]
  },
  {
   "cell_type": "code",
   "execution_count": 1,
   "metadata": {},
   "outputs": [],
   "source": [
    "#import packages\n",
    "import pandas as pd\n",
    "import numpy as np\n",
    "import seaborn as sns\n",
    "import matplotlib.pyplot as plt\n",
    "from sklearn import linear_model\n",
    "from ast import literal_eval\n",
    "from pandas.core.reshape.reshape import unstack"
   ]
  },
  {
   "cell_type": "markdown",
   "metadata": {},
   "source": [
    "###### League of Legends DataSets"
   ]
  },
  {
   "cell_type": "code",
   "execution_count": 2,
   "metadata": {},
   "outputs": [],
   "source": [
    "#import first dataset\n",
    "LoL = pd.read_csv('C:/Users/Kaylin/Documents/Data Sets/League of Legends/LeagueofLegends.csv')\n",
    "#LoL.info() #7620 x 57"
   ]
  },
  {
   "cell_type": "code",
   "execution_count": 3,
   "metadata": {
    "scrolled": true
   },
   "outputs": [],
   "source": [
    "#second dataset on structures taken down\n",
    "#structures = pd.read_csv(''C:/Users/Kaylin/Documents/Data Sets/League of Legends/structures.csv'')\n",
    "#structures.info() #121386 x 5"
   ]
  },
  {
   "cell_type": "code",
   "execution_count": 4,
   "metadata": {
    "scrolled": true
   },
   "outputs": [],
   "source": [
    "#third dataset on kills \n",
    "#kills = pd.read_csv(''C:/Users/Kaylin/Documents/Data Sets/League of Legends/kills.csv'')\n",
    "#kills.info()"
   ]
  },
  {
   "cell_type": "markdown",
   "metadata": {},
   "source": [
    "###### Merging Data Sets"
   ]
  },
  {
   "cell_type": "code",
   "execution_count": 5,
   "metadata": {},
   "outputs": [],
   "source": [
    "#league = LoL.merge(structures, left_on = \"Address\", right_on = \"Address\")\n",
    "#league.info()"
   ]
  },
  {
   "cell_type": "markdown",
   "metadata": {},
   "source": [
    "###### Changing some Columns"
   ]
  },
  {
   "cell_type": "code",
   "execution_count": 6,
   "metadata": {},
   "outputs": [],
   "source": [
    "#league.rename(columns={'Type_x': 'GameType', 'Type_y': 'StructureType'}, inplace=True)\n",
    "#league.info()"
   ]
  },
  {
   "cell_type": "markdown",
   "metadata": {},
   "source": [
    "## Subsetting only 2017 Season Data"
   ]
  },
  {
   "cell_type": "markdown",
   "metadata": {},
   "source": [
    "We chose to focus on 2017 because it is the most recent, complete year. We also only want to focus on Season rows."
   ]
  },
  {
   "cell_type": "code",
   "execution_count": 7,
   "metadata": {},
   "outputs": [],
   "source": [
    "y2017 = LoL.loc[LoL['Year'] == 2017,]\n",
    "y2017 = y2017.loc[y2017['Type'] == 'Season']"
   ]
  },
  {
   "cell_type": "markdown",
   "metadata": {},
   "source": [
    "## Exploring Game Length"
   ]
  },
  {
   "cell_type": "code",
   "execution_count": 8,
   "metadata": {},
   "outputs": [
    {
     "data": {
      "text/plain": [
       "count    2572.000000\n",
       "mean       36.240669\n",
       "std         7.799661\n",
       "min        17.000000\n",
       "25%        31.000000\n",
       "50%        35.000000\n",
       "75%        41.000000\n",
       "max        78.000000\n",
       "Name: gamelength, dtype: float64"
      ]
     },
     "execution_count": 8,
     "metadata": {},
     "output_type": "execute_result"
    }
   ],
   "source": [
    "y2017['gamelength'].describe()"
   ]
  },
  {
   "cell_type": "code",
   "execution_count": 9,
   "metadata": {},
   "outputs": [
    {
     "data": {
      "text/plain": [
       "(10, 57)"
      ]
     },
     "execution_count": 9,
     "metadata": {},
     "output_type": "execute_result"
    }
   ],
   "source": [
    "y2017_2 = y2017[y2017.gamelength > 65]\n",
    "y2017_2.shape "
   ]
  },
  {
   "cell_type": "markdown",
   "metadata": {},
   "source": [
    "There are only 10 games over 65 minutes out of the 2572. This is about 3 standard deviations above the 75% quartile.\n",
    "\n",
    "We'll just clean it up a bit and take these out"
   ]
  },
  {
   "cell_type": "code",
   "execution_count": 10,
   "metadata": {},
   "outputs": [
    {
     "data": {
      "text/plain": [
       "count    2562.000000\n",
       "mean       36.112412\n",
       "std         7.535977\n",
       "min        17.000000\n",
       "25%        30.000000\n",
       "50%        35.000000\n",
       "75%        41.000000\n",
       "max        65.000000\n",
       "Name: gamelength, dtype: float64"
      ]
     },
     "execution_count": 10,
     "metadata": {},
     "output_type": "execute_result"
    }
   ],
   "source": [
    "y2017 = y2017[y2017.gamelength <= 65]\n",
    "y2017['gamelength'].describe()"
   ]
  },
  {
   "cell_type": "code",
   "execution_count": 11,
   "metadata": {
    "scrolled": true
   },
   "outputs": [
    {
     "data": {
      "image/png": "[encoded data removed]",
      "text/plain": [
       "<matplotlib.figure.Figure at 0x2a6895cc18>"
      ]
     },
     "metadata": {},
     "output_type": "display_data"
    }
   ],
   "source": [
    "fig, ax = plt.subplots(0,2, figsize=(16,14))\n",
    "\n",
    "p1 = plt.subplot2grid((2,4), (0,0), colspan = 1)\n",
    "sns.boxplot(y = y2017['gamelength'], color = 'lavender')\n",
    "plt.title(\"Boxplot for Distribution of Game Length\")\n",
    "plt.xlabel(\"Games\") \n",
    "plt.ylabel(\"Minutes\")\n",
    "\n",
    "p2 = plt.subplot2grid((2,4), (0,1), colspan = 3)\n",
    "plt.hist(x= 'gamelength', bins = 16, data = y2017, color = 'lightblue', edgecolor = 'grey')\n",
    "plt.title(\"Histogram for Distribution of Game Length\")\n",
    "plt.xlabel(\"Minutes\")\n",
    "plt.ylabel(\"Count\")\n",
    "\n",
    "plt.show()"
   ]
  },
  {
   "cell_type": "markdown",
   "metadata": {},
   "source": [
    "## Looking at Gold over Time"
   ]
  },
  {
   "cell_type": "code",
   "execution_count": null,
   "metadata": {},
   "outputs": [],
   "source": []
  },
  {
   "cell_type": "markdown",
   "metadata": {},
   "source": [
    "## Looking at Most Banned Champions in 2017"
   ]
  },
  {
   "cell_type": "code",
   "execution_count": 12,
   "metadata": {},
   "outputs": [],
   "source": [
    "blueBans2017 = y2017['blueBans'].apply(literal_eval)\n",
    "redBans2017 = y2017['redBans'].apply(literal_eval)\n",
    "\n",
    "bans = blueBans2017.append(redBans2017) #combine the red and blue bans for a total bans data frame"
   ]
  },
  {
   "cell_type": "code",
   "execution_count": 13,
   "metadata": {},
   "outputs": [],
   "source": [
    "#dfBlueBans = pd.DataFrame(blueBans2017)\n",
    "#dfRedBans = pd.DataFrame(redBans2017)\n",
    "\n",
    "dfBans = pd.DataFrame(bans) #create the data frame\n",
    "dfBans.columns = [\"bans\"] #rename the column "
   ]
  },
  {
   "cell_type": "code",
   "execution_count": 14,
   "metadata": {},
   "outputs": [],
   "source": [
    "#dfBlueBans.info()"
   ]
  },
  {
   "cell_type": "code",
   "execution_count": 15,
   "metadata": {},
   "outputs": [],
   "source": [
    "#dfRedBans.info()"
   ]
  },
  {
   "cell_type": "code",
   "execution_count": 16,
   "metadata": {},
   "outputs": [
    {
     "data": {
      "text/html": [
       "<div>\n",
       "<style scoped>\n",
       "    .dataframe tbody tr th:only-of-type {\n",
       "        vertical-align: middle;\n",
       "    }\n",
       "\n",
       "    .dataframe tbody tr th {\n",
       "        vertical-align: top;\n",
       "    }\n",
       "\n",
       "    .dataframe thead th {\n",
       "        text-align: right;\n",
       "    }\n",
       "</style>\n",
       "<table border=\"1\" class=\"dataframe\">\n",
       "  <thead>\n",
       "    <tr style=\"text-align: right;\">\n",
       "      <th></th>\n",
       "      <th>bans</th>\n",
       "    </tr>\n",
       "  </thead>\n",
       "  <tbody>\n",
       "    <tr>\n",
       "      <th>609</th>\n",
       "      <td>[Rengar, Olaf, Janna, Nautilus, Poppy]</td>\n",
       "    </tr>\n",
       "    <tr>\n",
       "      <th>610</th>\n",
       "      <td>[Zyra, Maokai, Ryze, Fiora, Jayce]</td>\n",
       "    </tr>\n",
       "    <tr>\n",
       "      <th>611</th>\n",
       "      <td>[Zyra, Syndra, Ryze, Orianna, Karma]</td>\n",
       "    </tr>\n",
       "    <tr>\n",
       "      <th>612</th>\n",
       "      <td>[Ryze, Kennen, Malzahar, Zyra, Rumble]</td>\n",
       "    </tr>\n",
       "    <tr>\n",
       "      <th>613</th>\n",
       "      <td>[Kalista, Olaf, Zyra, MissFortune, Ekko]</td>\n",
       "    </tr>\n",
       "  </tbody>\n",
       "</table>\n",
       "</div>"
      ],
      "text/plain": [
       "                                         bans\n",
       "609    [Rengar, Olaf, Janna, Nautilus, Poppy]\n",
       "610        [Zyra, Maokai, Ryze, Fiora, Jayce]\n",
       "611      [Zyra, Syndra, Ryze, Orianna, Karma]\n",
       "612    [Ryze, Kennen, Malzahar, Zyra, Rumble]\n",
       "613  [Kalista, Olaf, Zyra, MissFortune, Ekko]"
      ]
     },
     "execution_count": 16,
     "metadata": {},
     "output_type": "execute_result"
    }
   ],
   "source": [
    "dfBans.shape #to check if both columns were combined correctly, the shape needs 6622 rows because the original set had 3311 obs\n",
    "dfBans.head()"
   ]
  },
  {
   "cell_type": "code",
   "execution_count": 17,
   "metadata": {},
   "outputs": [
    {
     "data": {
      "text/plain": [
       "(25437, 1)"
      ]
     },
     "execution_count": 17,
     "metadata": {},
     "output_type": "execute_result"
    }
   ],
   "source": [
    "lst_col = 'bans'\n",
    "\n",
    "#get the names out of the 'pseudo'-list\n",
    "b = pd.DataFrame({\n",
    "    col:np.repeat(dfBans[col].values, dfBans[lst_col].str.len())\n",
    "    for col in dfBans.columns.drop(lst_col)}).assign(**{lst_col:np.concatenate(dfBans[lst_col].values)})[dfBans.columns]\n",
    "\n",
    "b.shape #32694 total bans in 2017 for competitive matches"
   ]
  },
  {
   "cell_type": "code",
   "execution_count": 18,
   "metadata": {},
   "outputs": [],
   "source": [
    "#get the total each champion in 2017 was banned in competitive matches\n",
    "mostcommon1 = b.groupby('bans')['bans'].count()\n",
    "\n",
    "#sort from largest to smallest; observe the top 20\n",
    "mostcommon1sort =mostcommon1.sort_values(ascending = False)[0:10]"
   ]
  },
  {
   "cell_type": "code",
   "execution_count": 19,
   "metadata": {},
   "outputs": [],
   "source": [
    "#turn into a dataframe\n",
    "mostcommon1df= pd.DataFrame(mostcommon1sort)\n",
    "mostcommon1df = mostcommon1df.reindex(mostcommon1df.index.rename('Champion'))\n",
    "mostcommon1df.reset_index(level=0, inplace=True)"
   ]
  },
  {
   "cell_type": "code",
   "execution_count": 24,
   "metadata": {},
   "outputs": [
    {
     "name": "stdout",
     "output_type": "stream",
     "text": [
      "  Champion  bans\n",
      "0  Leblanc  1516\n",
      "1  Camille  1159\n",
      "2   Syndra  1082\n",
      "3      Zac  1078\n",
      "4    Elise   995\n",
      "5  Caitlyn   840\n",
      "6    Jayce   836\n",
      "7   Rengar   788\n",
      "8     Shen   785\n",
      "9   Thresh   683\n"
     ]
    }
   ],
   "source": [
    "\n",
    "#table = plt.table(cellText=mostcommon1df.values, \n",
    " #                 colWidths = [0.25]*len(mostcommon1df.columns),\n",
    "  #                bbox = [0, 1, 0.5, 1],\n",
    "   #               loc = 'left')\n",
    "print(mostcommon1df)"
   ]
  },
  {
   "cell_type": "code",
   "execution_count": 21,
   "metadata": {},
   "outputs": [
    {
     "data": {
      "image/png": "[encoded data removed]",
      "text/plain": [
       "<matplotlib.figure.Figure at 0x2a6904f3c8>"
      ]
     },
     "metadata": {},
     "output_type": "display_data"
    }
   ],
   "source": [
    "barchart = plt.bar(mostcommon1df['Champion'], mostcommon1df['bans'])"
   ]
  },
  {
   "cell_type": "markdown",
   "metadata": {},
   "source": [
    "From this table and barplot, we can see that the most common champion banned during the 2017 Season was LeBlanc."
   ]
  },
  {
   "cell_type": "markdown",
   "metadata": {},
   "source": [
    "## Does the time of taking down the first objective increase a team's chance of winning?\n",
    "\n",
    "Does taking down the first tower/objective earlier increase your chances of winning/give you a head start? "
   ]
  }
 ],
 "metadata": {
  "kernelspec": {
   "display_name": "Python 3",
   "language": "python",
   "name": "python3"
  },
  "language_info": {
   "codemirror_mode": {
    "name": "ipython",
    "version": 3
   },
   "file_extension": ".py",
   "mimetype": "text/x-python",
   "name": "python",
   "nbconvert_exporter": "python",
   "pygments_lexer": "ipython3",
   "version": "3.6.4"
  }
 },
 "nbformat": 4,
 "nbformat_minor": 2
}
